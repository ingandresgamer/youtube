{
 "cells": [
  {
   "cell_type": "code",
   "execution_count": 7,
   "id": "10365a9f",
   "metadata": {},
   "outputs": [
    {
     "name": "stdout",
     "output_type": "stream",
     "text": [
      "5\n",
      "9\n",
      "-12\n",
      "21\n",
      "Hola El resultado de 5-2 es 3\n"
     ]
    }
   ],
   "source": [
    "# Operaciones Basicas \n",
    "\n",
    "print(2 + 3)\n",
    "print(5 + 4)\n",
    "print(2 - 2 * 7)\n",
    "print((5-2)*7)\n",
    "\n",
    "print(f'Hola El resultado de 5-2 es {5-2}')"
   ]
  },
  {
   "cell_type": "code",
   "execution_count": 8,
   "id": "c526c8ec",
   "metadata": {},
   "outputs": [
    {
     "name": "stdout",
     "output_type": "stream",
     "text": [
      "El valor de la Variable a es : 4\n"
     ]
    }
   ],
   "source": [
    "## Asignar una Variable  \n",
    "a = 2+2\n",
    "print(f'El valor de la Variable a es : {a}')   "
   ]
  },
  {
   "cell_type": "code",
   "execution_count": 13,
   "id": "1cf071f9",
   "metadata": {},
   "outputs": [
    {
     "name": "stdout",
     "output_type": "stream",
     "text": [
      "El valor actual de ii es: 0\n",
      "El valor actual de ii es: 1\n",
      "El valor actual de ii es: 2\n",
      "El valor actual de ii es: 3\n",
      "El valor actual de ii es: 4\n",
      "El valor actual de ii es: 5\n",
      "El valor actual de ii es: 6\n",
      "El valor actual de ii es: 7\n",
      "El valor actual de ii es: 8\n",
      "El valor actual de ii es: 9\n",
      "45\n"
     ]
    },
    {
     "data": {
      "text/plain": [
       "45"
      ]
     },
     "execution_count": 13,
     "metadata": {},
     "output_type": "execute_result"
    }
   ],
   "source": [
    "## Loops \n",
    "\n",
    "contador=0\n",
    "\n",
    "for ii in range(10):\n",
    "    print(f'El valor actual de ii es: {ii}')\n",
    "    contador=contador+ii\n",
    "    \n",
    "print(contador)\n",
    "\n",
    "1+2+3+4+5+6+7+8+9"
   ]
  },
  {
   "cell_type": "code",
   "execution_count": 19,
   "id": "54680220",
   "metadata": {},
   "outputs": [
    {
     "name": "stdout",
     "output_type": "stream",
     "text": [
      "El Valor de K Actual es:45\n",
      "El Valor de K Actual es:44\n",
      "El Valor de K Actual es:43\n",
      "El Valor de K Actual es:42\n",
      "El Valor de K Actual es:41\n",
      "El Valor de K Actual es:40\n",
      "El Valor de K Actual es:39\n",
      "El Valor de K Actual es:38\n",
      "El Valor de K Actual es:37\n",
      "El Valor de K Actual es:36\n",
      "El Valor de K Actual es:35\n",
      "El Valor de K Actual es:34\n",
      "El Valor de K Actual es:33\n",
      "El Valor de K Actual es:32\n",
      "El Valor de K Actual es:31\n",
      "El Valor de K Actual es:30\n",
      "El Valor de K Actual es:29\n",
      "El Valor de K Actual es:28\n",
      "El Valor de K Actual es:27\n",
      "El Valor de K Actual es:26\n",
      "El Valor de K Actual es:25\n",
      "El Valor de K Actual es:24\n",
      "El Valor de K Actual es:23\n",
      "El Valor de K Actual es:22\n",
      "El Valor de K Actual es:21\n",
      "El Valor de K Actual es:20\n",
      "El Valor de K Actual es:19\n",
      "El Valor de K Actual es:18\n",
      "El Valor de K Actual es:17\n",
      "El Valor de K Actual es:16\n",
      "El Valor de K Actual es:15\n",
      "El Valor de K Actual es:14\n",
      "El Valor de K Actual es:13\n",
      "El Valor de K Actual es:12\n",
      "El Valor de K Actual es:11\n",
      "10\n"
     ]
    }
   ],
   "source": [
    "k=contador\n",
    "\n",
    "while (k>10):\n",
    "    print(f'El Valor de K Actual es:{ k }')\n",
    "    k=k-1\n",
    "    \n",
    "print(k)\n",
    "\n",
    "\n",
    "    \n"
   ]
  },
  {
   "cell_type": "code",
   "execution_count": 38,
   "id": "accf1d89",
   "metadata": {},
   "outputs": [
    {
     "name": "stdout",
     "output_type": "stream",
     "text": [
      "[1, 2, 3, 4, 5]\n",
      "El Elemento 0 de V_Vector es 1\n",
      "El Elemento 0 de V_Vector es 5\n",
      "[1. 1. 1. 1. 1.]\n",
      "[[1. 0. 0.]\n",
      " [0. 1. 0.]\n",
      " [0. 0. 1.]]\n",
      "[[1 2]\n",
      " [3 4]\n",
      " [5 6]]\n"
     ]
    }
   ],
   "source": [
    "# Como se Crean los Vectores \n",
    "\n",
    "V_Vector = [1 ,2 ,3, 4, 5]\n",
    "\n",
    "print(V_Vector)\n",
    "\n",
    "print(f'El Elemento 0 de V_Vector es {V_Vector[0]}')\n",
    "print(f'El Elemento 0 de V_Vector es {V_Vector[-1]}')\n",
    "\n",
    "import numpy as np\n",
    "\n",
    "V_Ones= np.ones(5)\n",
    "I_3b3= np.eye(3)\n",
    "\n",
    "print(V_Ones)\n",
    "print(I_3b3)\n",
    "\n",
    "A_3b2 = np.array([[1 , 2],[3 , 4],[ 5 , 6]])\n",
    "\n",
    "print(A_3b2)\n"
   ]
  },
  {
   "cell_type": "code",
   "execution_count": 40,
   "id": "ba23bc7c",
   "metadata": {},
   "outputs": [
    {
     "data": {
      "text/plain": [
       "(3, 2)"
      ]
     },
     "execution_count": 40,
     "metadata": {},
     "output_type": "execute_result"
    }
   ],
   "source": [
    "A_3b2.shape"
   ]
  },
  {
   "cell_type": "code",
   "execution_count": 55,
   "id": "105ad70b",
   "metadata": {},
   "outputs": [
    {
     "name": "stdout",
     "output_type": "stream",
     "text": [
      "[[ 7 10]\n",
      " [15 22]\n",
      " [23 34]]\n",
      "[[ 7 15 23]\n",
      " [10 22 34]]\n",
      "El Resultado de elevar 2**4 es 81\n",
      "El Resultado de elevar 2^4 es 6\n",
      "El Resultado de elevar 3**4 es 81\n",
      "El Resultado de elevar 3^4 es 7\n",
      "El Resultado de elevar 3+4 es 7\n",
      "El resultado de B_2b2 ** 2 es : [[ 1  4]\n",
      " [ 9 16]]\n"
     ]
    }
   ],
   "source": [
    "# Operaciones con Matrices \n",
    "B_2b2 = np.array([[1,2],[3,4]])\n",
    "mat_prod=A_3b2 @ B_2b2\n",
    "print(mat_prod)\n",
    "\n",
    "## Se Traspone con .T\n",
    "print(mat_prod.T)\n",
    "\n",
    "## Elevando a una Potencia, no es con ^ es con ** \n",
    "\n",
    "print(f'El Resultado de elevar 2**4 es {3**4}')\n",
    "print(f'El Resultado de elevar 2^4 es {2^4}')\n",
    "print(f'El Resultado de elevar 3**4 es {3**4}')\n",
    "print(f'El Resultado de elevar 3^4 es {3^4}')\n",
    "print(f'El Resultado de elevar 3+4 es {3+4}')\n",
    "\n",
    "## Aplicado a una Matriz \n",
    "\n",
    "print(f'El resultado de B_2b2 ** 2 es : {B_2b2**2}')\n",
    "\n",
    " "
   ]
  },
  {
   "cell_type": "code",
   "execution_count": 67,
   "id": "d3a1c2b6",
   "metadata": {},
   "outputs": [
    {
     "name": "stdout",
     "output_type": "stream",
     "text": [
      "[-100.  -99.  -98.  -97.  -96.  -95.  -94.  -93.  -92.  -91.  -90.  -89.\n",
      "  -88.  -87.  -86.  -85.  -84.  -83.  -82.  -81.  -80.  -79.  -78.  -77.\n",
      "  -76.  -75.  -74.  -73.  -72.  -71.  -70.  -69.  -68.  -67.  -66.  -65.\n",
      "  -64.  -63.  -62.  -61.  -60.  -59.  -58.  -57.  -56.  -55.  -54.  -53.\n",
      "  -52.  -51.  -50.  -49.  -48.  -47.  -46.  -45.  -44.  -43.  -42.  -41.\n",
      "  -40.  -39.  -38.  -37.  -36.  -35.  -34.  -33.  -32.  -31.  -30.  -29.\n",
      "  -28.  -27.  -26.  -25.  -24.  -23.  -22.  -21.  -20.  -19.  -18.  -17.\n",
      "  -16.  -15.  -14.  -13.  -12.  -11.  -10.   -9.   -8.   -7.   -6.   -5.\n",
      "   -4.   -3.   -2.   -1.    0.    1.    2.    3.    4.    5.    6.    7.\n",
      "    8.    9.   10.   11.   12.   13.   14.   15.   16.   17.   18.   19.\n",
      "   20.   21.   22.   23.   24.   25.   26.   27.   28.   29.   30.   31.\n",
      "   32.   33.   34.   35.   36.   37.   38.   39.   40.   41.   42.   43.\n",
      "   44.   45.   46.   47.   48.   49.   50.   51.   52.   53.   54.   55.\n",
      "   56.   57.   58.   59.   60.   61.   62.   63.   64.   65.   66.   67.\n",
      "   68.   69.   70.   71.   72.   73.   74.   75.   76.   77.   78.   79.\n",
      "   80.   81.   82.   83.   84.   85.   86.   87.   88.   89.   90.   91.\n",
      "   92.   93.   94.   95.   96.   97.   98.   99.  100.]\n"
     ]
    }
   ],
   "source": [
    "# Como se crea un Vector de Tiempos en Python \n",
    "\n",
    "t=np.linspace(-100,100, 201)\n",
    "print(t)\n",
    "\n",
    "f1=t**2\n",
    "f2=f1*np.sin(t)\n",
    "\n",
    "\n"
   ]
  },
  {
   "cell_type": "code",
   "execution_count": 68,
   "id": "a19a4c00",
   "metadata": {},
   "outputs": [
    {
     "data": {
      "image/png": "[encoded data removed]",
      "text/plain": [
       "<Figure size 432x288 with 1 Axes>"
      ]
     },
     "metadata": {
      "needs_background": "light"
     },
     "output_type": "display_data"
    }
   ],
   "source": [
    "from matplotlib import pyplot as plt\n",
    "\n",
    "plt.figure()\n",
    "plt.plot(t, f1, 'r-', linewidth=2)\n",
    "plt.plot(t, f2, 'k--', linewidth=2)\n",
    "plt.legend(['f1','f2'])\n",
    "plt.xlabel('Time')\n",
    "plt.ylabel('Funciones')\n",
    "plt.title('Mi Primera Funcion en Python')\n",
    "plt.grid(True)\n",
    "plt.show()\n",
    "\n"
   ]
  }
 ],
 "metadata": {
  "kernelspec": {
   "display_name": "Python 3",
   "language": "python",
   "name": "python3"
  },
  "language_info": {
   "codemirror_mode": {
    "name": "ipython",
    "version": 3
   },
   "file_extension": ".py",
   "mimetype": "text/x-python",
   "name": "python",
   "nbconvert_exporter": "python",
   "pygments_lexer": "ipython3",
   "version": "3.9.12"
  }
 },
 "nbformat": 4,
 "nbformat_minor": 5
}
