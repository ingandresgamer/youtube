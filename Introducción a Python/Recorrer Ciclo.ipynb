{
 "cells": [
  {
   "cell_type": "code",
   "execution_count": 4,
   "id": "b56ca6ba-508d-48ab-8a3a-f58e4ad922ff",
   "metadata": {},
   "outputs": [],
   "source": [
    "losmejores = [\n",
    "    \"Bayonetta\",\n",
    "    \"Zelda\",\n",
    "    \"Metroid\",\n",
    "    \"Mario\"\n",
    "]\n",
    "\n",
    "#recorramos con un Ciclo \n",
    "\n",
    "\n"
   ]
  },
  {
   "cell_type": "code",
   "execution_count": 5,
   "id": "d919b79b-fb8a-409d-8a0c-3705ebac2cb6",
   "metadata": {},
   "outputs": [
    {
     "name": "stdout",
     "output_type": "stream",
     "text": [
      "Bayonetta\n",
      "Zelda\n",
      "Metroid\n",
      "Mario\n"
     ]
    }
   ],
   "source": [
    "for juegos in losmejores:\n",
    "    print(juegos.title())\n",
    "               "
   ]
  },
  {
   "cell_type": "code",
   "execution_count": 6,
   "id": "1500fc91-fc9a-409a-9dc6-5dea4daec8c4",
   "metadata": {},
   "outputs": [
    {
     "name": "stdout",
     "output_type": "stream",
     "text": [
      "0 Bayonetta\n",
      "1 Zelda\n",
      "2 Metroid\n",
      "3 Mario\n"
     ]
    }
   ],
   "source": [
    "i=0\n",
    "for juegos in losmejores:\n",
    "    print(i,juegos.title())\n",
    "    i=i+1"
   ]
  },
  {
   "cell_type": "code",
   "execution_count": 8,
   "id": "f4a25b88-e9cd-42ae-b66b-8b0e3215521e",
   "metadata": {},
   "outputs": [
    {
     "name": "stdout",
     "output_type": "stream",
     "text": [
      "0 Bayonetta\n",
      "1 Zelda\n",
      "2 Metroid\n",
      "3 Mario\n"
     ]
    }
   ],
   "source": [
    "for i in range(len(losmejores)):\n",
    "    print(i,losmejores[i].title())"
   ]
  },
  {
   "cell_type": "code",
   "execution_count": 9,
   "id": "ca96773b-ca98-40b7-a29d-949eb0f95909",
   "metadata": {},
   "outputs": [
    {
     "name": "stdout",
     "output_type": "stream",
     "text": [
      "0 Bayonetta\n",
      "1 Zelda\n",
      "2 Metroid\n",
      "3 Mario\n"
     ]
    }
   ],
   "source": [
    "for i , juegos in enumerate(losmejores):\n",
    "     print(i,juegos.title())"
   ]
  }
 ],
 "metadata": {
  "kernelspec": {
   "display_name": "Python 3 (ipykernel)",
   "language": "python",
   "name": "python3"
  },
  "language_info": {
   "codemirror_mode": {
    "name": "ipython",
    "version": 3
   },
   "file_extension": ".py",
   "mimetype": "text/x-python",
   "name": "python",
   "nbconvert_exporter": "python",
   "pygments_lexer": "ipython3",
   "version": "3.9.13"
  }
 },
 "nbformat": 4,
 "nbformat_minor": 5
}
