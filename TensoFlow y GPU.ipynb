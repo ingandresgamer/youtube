{
 "cells": [
  {
   "cell_type": "code",
   "execution_count": 14,
   "metadata": {},
   "outputs": [],
   "source": [
    "import tensorflow as tf"
   ]
  },
  {
   "cell_type": "code",
   "execution_count": 15,
   "metadata": {},
   "outputs": [
    {
     "name": "stdout",
     "output_type": "stream",
     "text": [
      "Available CPU devices:\n",
      "Using CPU device: /physical_device:CPU:0\n",
      "PhysicalDevice(name='/physical_device:CPU:0', device_type='CPU')\n",
      "Available GPU devices:\n"
     ]
    }
   ],
   "source": [
    "\n",
    "# list the available physical devices\n",
    "physical_devices = tf.config.list_physical_devices('CPU')\n",
    "print(\"Available CPU devices:\")\n",
    "for device in physical_devices:\n",
    "    print(\"Using CPU device:\", device.name)\n",
    "    print(device)\n",
    "    \n",
    "    \n",
    "\n",
    "physical_devices = tf.config.list_physical_devices('GPU')\n",
    "print(\"Available GPU devices:\")\n",
    "for device in physical_devices:\n",
    "    print(\"Using GPU device:\", device.name)\n",
    "    print(device)\n"
   ]
  },
  {
   "cell_type": "code",
   "execution_count": 16,
   "metadata": {},
   "outputs": [
    {
     "name": "stderr",
     "output_type": "stream",
     "text": [
      "2023-05-08 01:18:00.392459: I tensorflow/compiler/xla/stream_executor/cuda/cuda_gpu_executor.cc:996] successful NUMA node read from SysFS had negative value (-1), but there must be at least one NUMA node, so returning NUMA node zero. See more at https://github.com/torvalds/linux/blob/v6.0/Documentation/ABI/testing/sysfs-bus-pci#L344-L355\n",
      "2023-05-08 01:18:00.392737: W tensorflow/core/common_runtime/gpu/gpu_device.cc:1956] Cannot dlopen some GPU libraries. Please make sure the missing libraries mentioned above are installed properly if you would like to use GPU. Follow the guide at https://www.tensorflow.org/install/gpu for how to download and setup the required libraries for your platform.\n",
      "Skipping registering GPU devices...\n"
     ]
    },
    {
     "data": {
      "text/plain": [
       "''"
      ]
     },
     "execution_count": 16,
     "metadata": {},
     "output_type": "execute_result"
    }
   ],
   "source": [
    "tf.test.gpu_device_name()"
   ]
  },
  {
   "cell_type": "code",
   "execution_count": 17,
   "metadata": {},
   "outputs": [],
   "source": [
    "from tensorflow.keras import layers\n",
    "\n",
    "# define the neural network model\n",
    "model = tf.keras.Sequential([\n",
    "    layers.Dense(64, activation='relu', input_shape=(784,)),\n",
    "    layers.Dense(10, activation='softmax')\n",
    "])\n",
    "\n",
    "# load the MNIST dataset\n",
    "(x_train, y_train), (x_test, y_test) = tf.keras.datasets.mnist.load_data()\n",
    "\n",
    "# preprocess the data\n",
    "x_train = x_train.reshape((60000, 784)).astype('float32') / 255\n",
    "x_test = x_test.reshape((10000, 784)).astype('float32') / 255\n",
    "y_train = tf.keras.utils.to_categorical(y_train)\n",
    "y_test = tf.keras.utils.to_categorical(y_test)\n",
    "\n",
    "# compile the model\n",
    "model.compile(optimizer='rmsprop',\n",
    "              loss='categorical_crossentropy',\n",
    "              metrics=['accuracy'])"
   ]
  },
  {
   "cell_type": "code",
   "execution_count": 18,
   "metadata": {},
   "outputs": [
    {
     "name": "stdout",
     "output_type": "stream",
     "text": [
      "Epoch 1/10\n",
      "59/59 [==============================] - 1s 10ms/step - loss: 0.7764 - accuracy: 0.8102 - val_loss: 0.3919 - val_accuracy: 0.8996\n",
      "Epoch 2/10\n",
      "59/59 [==============================] - 0s 8ms/step - loss: 0.3484 - accuracy: 0.9043 - val_loss: 0.2969 - val_accuracy: 0.9183\n",
      "Epoch 3/10\n",
      "59/59 [==============================] - 0s 8ms/step - loss: 0.2809 - accuracy: 0.9218 - val_loss: 0.2612 - val_accuracy: 0.9256\n",
      "Epoch 4/10\n",
      "59/59 [==============================] - 0s 8ms/step - loss: 0.2439 - accuracy: 0.9313 - val_loss: 0.2260 - val_accuracy: 0.9370\n",
      "Epoch 5/10\n",
      "59/59 [==============================] - 0s 7ms/step - loss: 0.2166 - accuracy: 0.9393 - val_loss: 0.2038 - val_accuracy: 0.9436\n",
      "Epoch 6/10\n",
      "59/59 [==============================] - 0s 8ms/step - loss: 0.1959 - accuracy: 0.9446 - val_loss: 0.1894 - val_accuracy: 0.9452\n",
      "Epoch 7/10\n",
      "59/59 [==============================] - 0s 7ms/step - loss: 0.1787 - accuracy: 0.9501 - val_loss: 0.1738 - val_accuracy: 0.9493\n",
      "Epoch 8/10\n",
      "59/59 [==============================] - 0s 8ms/step - loss: 0.1639 - accuracy: 0.9534 - val_loss: 0.1613 - val_accuracy: 0.9518\n",
      "Epoch 9/10\n",
      "59/59 [==============================] - 0s 8ms/step - loss: 0.1512 - accuracy: 0.9579 - val_loss: 0.1518 - val_accuracy: 0.9549\n",
      "Epoch 10/10\n",
      "59/59 [==============================] - 0s 8ms/step - loss: 0.1403 - accuracy: 0.9606 - val_loss: 0.1436 - val_accuracy: 0.9573\n"
     ]
    }
   ],
   "source": [
    "# train the model\n",
    "with tf.device('/GPU:0'):\n",
    "    model.fit(x_train, y_train, epochs=10, batch_size=1024, validation_data=(x_test, y_test))"
   ]
  }
 ],
 "metadata": {
  "kernelspec": {
   "display_name": "tf",
   "language": "python",
   "name": "python3"
  },
  "language_info": {
   "codemirror_mode": {
    "name": "ipython",
    "version": 3
   },
   "file_extension": ".py",
   "mimetype": "text/x-python",
   "name": "python",
   "nbconvert_exporter": "python",
   "pygments_lexer": "ipython3",
   "version": "3.9.16"
  },
  "orig_nbformat": 4
 },
 "nbformat": 4,
 "nbformat_minor": 2
}
