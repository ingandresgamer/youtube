{
 "cells": [
  {
   "cell_type": "markdown",
   "id": "e60f143b-6513-4a8e-8e22-5ee91f2f67d6",
   "metadata": {},
   "source": [
    "<h2><font color=\"#004D7F\" size=6>Como Comparar Diferentes Algoritmos</font></h2>\n",
    "<div style=\"text-align: right\">\n",
    "<font color=\"#004D7F\" size=3>@ingandresgamer</font><br>\n",
    "<font color=\"#004D7F\" size=3>Clasificadores con Python</font><br>"
   ]
  },
  {
   "cell_type": "markdown",
   "id": "33189429-aa91-4a27-809d-00949c268d71",
   "metadata": {},
   "source": [
    "# Comparación del Desempeño de Algortimos\n",
    "\n",
    "Vamos a comparar el desempeño de 3 algoritmos de clasificación, empleando la misma base de datos \n",
    "\n",
    "* Logistic Regression.\n",
    "* Classification Trees. \n",
    "* Support Vector Machines.\n",
    "\n",
    "El código mostrará:\n",
    "* Una lista de cada nombre corto de algoritmo, el accuracy proemdio y  la desviación estándar.\n",
    "* Un diagrama de Bigote que muestra la distribución del  accuracy en cada fold de validación cruzada para cada algoritmo."
   ]
  },
  {
   "cell_type": "markdown",
   "id": "ca951f06-fc26-421a-b49b-dbec7d3da79d",
   "metadata": {},
   "source": [
    "El dataset que utilizaremos es de <a href=\"https://www.kaggle.com/\">Kaggle</a>, un gran lugar para conseguir datasets para tus estudios en ciencia de datos e inteligencia artificial.\n",
    "\n",
    "El dataset es sobre diabetes. Debes descargarlo <a href=\"https://www.kaggle.com/mathchi/diabetes-data-set\">Aqui</a>  en Kaggle. El objetivo de este dataset es predecir, dada otra información médica, si alguien tiene la enfermedad"
   ]
  }
 ],
 "metadata": {
  "kernelspec": {
   "display_name": "Python 3 (ipykernel)",
   "language": "python",
   "name": "python3"
  },
  "language_info": {
   "codemirror_mode": {
    "name": "ipython",
    "version": 3
   },
   "file_extension": ".py",
   "mimetype": "text/x-python",
   "name": "python",
   "nbconvert_exporter": "python",
   "pygments_lexer": "ipython3",
   "version": "3.9.13"
  }
 },
 "nbformat": 4,
 "nbformat_minor": 5
}
