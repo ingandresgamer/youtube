{
 "cells": [
  {
   "cell_type": "markdown",
   "id": "e60f143b-6513-4a8e-8e22-5ee91f2f67d6",
   "metadata": {},
   "source": [
    "<h2><font color=\"#004D7F\" size=6>Como Comparar Diferentes Algoritmos</font></h2>\n",
    "<div style=\"text-align: right\">\n",
    "<font color=\"#004D7F\" size=3>@ingandresgamer</font><br>\n",
    "<font color=\"#004D7F\" size=3>Clasificadores con Python</font><br>"
   ]
  },
  {
   "cell_type": "markdown",
   "id": "33189429-aa91-4a27-809d-00949c268d71",
   "metadata": {},
   "source": [
    "# Comparación del Desempeño de Algortimos\n",
    "\n",
    "Vamos a comparar el desempeño de 3 algoritmos de clasificación, empleando la misma base de datos \n",
    "\n",
    "* Logistic Regression.\n",
    "* Classification Trees. \n",
    "* Support Vector Machines.\n",
    "\n",
    "El código mostrará:\n",
    "* Una lista de cada nombre corto de algoritmo, el accuracy proemdio y  la desviación estándar.\n",
    "* Un diagrama de Bigote que muestra la distribución del  accuracy en cada fold de validación cruzada para cada algoritmo."
   ]
  },
  {
   "cell_type": "markdown",
   "id": "ca951f06-fc26-421a-b49b-dbec7d3da79d",
   "metadata": {},
   "source": [
    "El dataset que utilizaremos es de <a href=\"https://www.kaggle.com/\">Kaggle</a>, un gran lugar para conseguir datasets para tus estudios en ciencia de datos e inteligencia artificial.\n",
    "\n",
    "El dataset es sobre diabetes. Debes descargarlo <a href=\"https://www.kaggle.com/mathchi/diabetes-data-set\">Aqui</a>  en Kaggle. El objetivo de este dataset es predecir, dada otra información médica, si alguien tiene la enfermedad"
   ]
  },
  {
   "cell_type": "code",
   "execution_count": 1,
   "id": "7468c2dd-3cbf-40d3-bef0-c03a5b9f0a2a",
   "metadata": {},
   "outputs": [],
   "source": [
    "import pandas as pd\n",
    "import numpy as np\n",
    "import matplotlib.pyplot as plt\n",
    "from sklearn.model_selection import KFold\n",
    "from sklearn.model_selection import cross_val_score\n",
    "from sklearn.linear_model import LogisticRegression\n",
    "from sklearn.tree import DecisionTreeClassifier\n",
    "from sklearn.svm import SVC"
   ]
  },
  {
   "cell_type": "code",
   "execution_count": 9,
   "id": "10f5c53f-fae7-49a2-ab4f-9fea6904facd",
   "metadata": {
    "id": "stunning-protection"
   },
   "outputs": [],
   "source": [
    "# Leer y cargar el CSV\n",
    "data = pd.read_csv(\"db/diabetes.csv\")\n",
    "# Ver qué hay en el DataFrame\n",
    "data.head()"
   ]
  },
  {
   "cell_type": "code",
   "execution_count": 11,
   "id": "1bdf7ad9-0f0b-4d45-a076-34e95268b00a",
   "metadata": {},
   "outputs": [],
   "source": [
    "## Separar los Datos en Salida y Caracteristicas\n",
    "Y=data['Outcome']\n",
    "X=data.drop('Outcome',axis=1)"
   ]
  },
  {
   "cell_type": "code",
   "execution_count": null,
   "id": "db6a460c-c9bb-4fb4-91b3-a3731f24a869",
   "metadata": {},
   "outputs": [
    {
     "name": "stdout",
     "output_type": "stream",
     "text": [
      "LoR: 77.22% (4.97%)\n",
      "CART: 68.77% (5.34%)\n",
      "SVM-L: 76.04% (4.76%)\n",
      "SVM-RBF: 65.11% (5.99%)\n"
     ]
    }
   ],
   "source": [
    "# Compare Algorithms\n",
    "# prepare models\n",
    "models =[] ## Se crea una lista para salvar los modelos\n",
    "\n",
    "\n",
    "models.append(('LoR',LogisticRegression(solver='lbfgs',max_iter=1000)))\n",
    "models.append(('CART',DecisionTreeClassifier(random_state=88)))              \n",
    "models.append(('SVM-L',SVC(C=0.01,gamma='auto',kernel='linear')))\n",
    "models.append(('SVM-RBF',SVC(C=0.01,gamma='auto',kernel='rbf')))\n",
    "models.append(('SVM-Poly',SVC(C=0.01,gamma='auto',kernel='poly',order=2)))\n",
    "# evaluate each model in turn\n",
    "results =[]\n",
    "names =[]\n",
    "scoring='accuracy'\n",
    "kfold = KFold(n_splits=10, random_state=7, shuffle=True)\n",
    "for name , model in models :\n",
    "    cv_result=cross_val_score(model,X,Y,cv=kfold,scoring=scoring)\n",
    "    results.append(cv_result)\n",
    "    names.append(name)\n",
    "    print(f'{name}: {cv_result.mean():,.2%} ({cv_result.std():,.2%})')\n",
    "    "
   ]
  },
  {
   "cell_type": "code",
   "execution_count": null,
   "id": "d6aa77b1-5c8d-4ee2-882b-de50baf0939e",
   "metadata": {},
   "outputs": [],
   "source": [
    "# boxplot algorithm comparison\n",
    "fig=plt.figure()\n",
    "fig.suptitle('Comparación de Algoritmos')\n",
    "ax=fig.add_subplot(111)\n",
    "plt.boxplot(results)\n",
    "ax.set_xticklabels(names)\n",
    "plt.show()\n"
   ]
  }
 ],
 "metadata": {
  "kernelspec": {
   "display_name": "Python 3 (ipykernel)",
   "language": "python",
   "name": "python3"
  },
  "language_info": {
   "codemirror_mode": {
    "name": "ipython",
    "version": 3
   },
   "file_extension": ".py",
   "mimetype": "text/x-python",
   "name": "python",
   "nbconvert_exporter": "python",
   "pygments_lexer": "ipython3",
   "version": "3.9.13"
  }
 },
 "nbformat": 4,
 "nbformat_minor": 5
}
