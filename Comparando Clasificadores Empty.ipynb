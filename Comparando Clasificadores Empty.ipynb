{
 "cells": [
  {
   "cell_type": "markdown",
   "id": "e60f143b-6513-4a8e-8e22-5ee91f2f67d6",
   "metadata": {},
   "source": [
    "<h2><font color=\"#004D7F\" size=6>Como Comparar Diferentes Algoritmos</font></h2>\n",
    "<div style=\"text-align: right\">\n",
    "<font color=\"#004D7F\" size=3>@ingandresgamer</font><br>\n",
    "<font color=\"#004D7F\" size=3>Clasificadores con Python</font><br>"
   ]
  },
  {
   "cell_type": "markdown",
   "id": "33189429-aa91-4a27-809d-00949c268d71",
   "metadata": {},
   "source": [
    "# Comparación del Desempeño de Algortimos\n",
    "\n",
    "Vamos a comparar el desempeño de 3 algoritmos de clasificación, empleando la misma base de datos \n",
    "\n",
    "* Logistic Regression.\n",
    "* Classification Trees. \n",
    "* Support Vector Machines.\n",
    "\n",
    "El código mostrará:\n",
    "* Una lista de cada nombre corto de algoritmo, el accuracy promedio y  la desviación estándar.\n",
    "* Un diagrama de Bigote que muestra la distribución del  accuracy en cada fold de validación cruzada para cada algoritmo."
   ]
  },
  {
   "cell_type": "markdown",
   "id": "ca951f06-fc26-421a-b49b-dbec7d3da79d",
   "metadata": {},
   "source": [
    "El dataset que utilizaremos es de <a href=\"https://www.kaggle.com/\">Kaggle</a>, un gran lugar para conseguir datasets para tus estudios en ciencia de datos e inteligencia artificial.\n",
    "\n",
    "El dataset es sobre diabetes. Debes descargarlo <a href=\"https://www.kaggle.com/mathchi/diabetes-data-set\">Aqui</a>  en Kaggle. El objetivo de este dataset es predecir, dada otra información médica, si alguien tiene la enfermedad"
   ]
  },
  {
   "cell_type": "code",
   "execution_count": 3,
   "id": "45a0fa8e",
   "metadata": {},
   "outputs": [],
   "source": [
    "import pandas as pd\n",
    "import numpy as np\n",
    "import matplotlib.pyplot as plt\n",
    "from sklearn.model_selection import KFold\n",
    "from sklearn.model_selection import cross_val_score\n",
    "from sklearn.linear_model import LogisticRegression\n",
    "from sklearn.tree import DecisionTreeClassifier\n",
    "from sklearn.svm import SVC"
   ]
  },
  {
   "cell_type": "code",
   "execution_count": 6,
   "id": "4fe4cd0a",
   "metadata": {},
   "outputs": [
    {
     "name": "stdout",
     "output_type": "stream",
     "text": [
      "<class 'pandas.core.frame.DataFrame'>\n",
      "RangeIndex: 768 entries, 0 to 767\n",
      "Data columns (total 9 columns):\n",
      " #   Column                    Non-Null Count  Dtype  \n",
      "---  ------                    --------------  -----  \n",
      " 0   Pregnancies               768 non-null    int64  \n",
      " 1   Glucose                   768 non-null    int64  \n",
      " 2   BloodPressure             768 non-null    int64  \n",
      " 3   SkinThickness             768 non-null    int64  \n",
      " 4   Insulin                   768 non-null    int64  \n",
      " 5   BMI                       768 non-null    float64\n",
      " 6   DiabetesPedigreeFunction  768 non-null    float64\n",
      " 7   Age                       768 non-null    int64  \n",
      " 8   Outcome                   768 non-null    int64  \n",
      "dtypes: float64(2), int64(7)\n",
      "memory usage: 54.1 KB\n"
     ]
    }
   ],
   "source": [
    "# Leer y Cargar el Archivo \n",
    "df = pd.read_csv(\"db/diabetes.csv\")\n",
    "df.info()"
   ]
  },
  {
   "cell_type": "code",
   "execution_count": 8,
   "id": "d7f5dff2",
   "metadata": {},
   "outputs": [
    {
     "name": "stdout",
     "output_type": "stream",
     "text": [
      "<class 'pandas.core.frame.DataFrame'>\n",
      "RangeIndex: 768 entries, 0 to 767\n",
      "Data columns (total 9 columns):\n",
      " #   Column                    Non-Null Count  Dtype   \n",
      "---  ------                    --------------  -----   \n",
      " 0   Pregnancies               768 non-null    int64   \n",
      " 1   Glucose                   768 non-null    int64   \n",
      " 2   BloodPressure             768 non-null    int64   \n",
      " 3   SkinThickness             768 non-null    int64   \n",
      " 4   Insulin                   768 non-null    int64   \n",
      " 5   BMI                       768 non-null    float64 \n",
      " 6   DiabetesPedigreeFunction  768 non-null    float64 \n",
      " 7   Age                       768 non-null    int64   \n",
      " 8   Outcome                   768 non-null    category\n",
      "dtypes: category(1), float64(2), int64(6)\n",
      "memory usage: 49.0 KB\n"
     ]
    }
   ],
   "source": [
    "df['Outcome']=df['Outcome'].astype('category')\n",
    "df.info()"
   ]
  },
  {
   "cell_type": "code",
   "execution_count": 12,
   "id": "7b10da5e",
   "metadata": {},
   "outputs": [
    {
     "data": {
      "text/html": [
       "<div>\n",
       "<style scoped>\n",
       "    .dataframe tbody tr th:only-of-type {\n",
       "        vertical-align: middle;\n",
       "    }\n",
       "\n",
       "    .dataframe tbody tr th {\n",
       "        vertical-align: top;\n",
       "    }\n",
       "\n",
       "    .dataframe thead th {\n",
       "        text-align: right;\n",
       "    }\n",
       "</style>\n",
       "<table border=\"1\" class=\"dataframe\">\n",
       "  <thead>\n",
       "    <tr style=\"text-align: right;\">\n",
       "      <th></th>\n",
       "      <th>Pregnancies</th>\n",
       "      <th>Glucose</th>\n",
       "      <th>BloodPressure</th>\n",
       "      <th>SkinThickness</th>\n",
       "      <th>Insulin</th>\n",
       "      <th>BMI</th>\n",
       "      <th>DiabetesPedigreeFunction</th>\n",
       "      <th>Age</th>\n",
       "    </tr>\n",
       "  </thead>\n",
       "  <tbody>\n",
       "    <tr>\n",
       "      <th>0</th>\n",
       "      <td>6</td>\n",
       "      <td>148</td>\n",
       "      <td>72</td>\n",
       "      <td>35</td>\n",
       "      <td>0</td>\n",
       "      <td>33.6</td>\n",
       "      <td>0.627</td>\n",
       "      <td>50</td>\n",
       "    </tr>\n",
       "    <tr>\n",
       "      <th>1</th>\n",
       "      <td>1</td>\n",
       "      <td>85</td>\n",
       "      <td>66</td>\n",
       "      <td>29</td>\n",
       "      <td>0</td>\n",
       "      <td>26.6</td>\n",
       "      <td>0.351</td>\n",
       "      <td>31</td>\n",
       "    </tr>\n",
       "    <tr>\n",
       "      <th>2</th>\n",
       "      <td>8</td>\n",
       "      <td>183</td>\n",
       "      <td>64</td>\n",
       "      <td>0</td>\n",
       "      <td>0</td>\n",
       "      <td>23.3</td>\n",
       "      <td>0.672</td>\n",
       "      <td>32</td>\n",
       "    </tr>\n",
       "    <tr>\n",
       "      <th>3</th>\n",
       "      <td>1</td>\n",
       "      <td>89</td>\n",
       "      <td>66</td>\n",
       "      <td>23</td>\n",
       "      <td>94</td>\n",
       "      <td>28.1</td>\n",
       "      <td>0.167</td>\n",
       "      <td>21</td>\n",
       "    </tr>\n",
       "    <tr>\n",
       "      <th>4</th>\n",
       "      <td>0</td>\n",
       "      <td>137</td>\n",
       "      <td>40</td>\n",
       "      <td>35</td>\n",
       "      <td>168</td>\n",
       "      <td>43.1</td>\n",
       "      <td>2.288</td>\n",
       "      <td>33</td>\n",
       "    </tr>\n",
       "  </tbody>\n",
       "</table>\n",
       "</div>"
      ],
      "text/plain": [
       "   Pregnancies  Glucose  BloodPressure  SkinThickness  Insulin   BMI  \\\n",
       "0            6      148             72             35        0  33.6   \n",
       "1            1       85             66             29        0  26.6   \n",
       "2            8      183             64              0        0  23.3   \n",
       "3            1       89             66             23       94  28.1   \n",
       "4            0      137             40             35      168  43.1   \n",
       "\n",
       "   DiabetesPedigreeFunction  Age  \n",
       "0                     0.627   50  \n",
       "1                     0.351   31  \n",
       "2                     0.672   32  \n",
       "3                     0.167   21  \n",
       "4                     2.288   33  "
      ]
     },
     "execution_count": 12,
     "metadata": {},
     "output_type": "execute_result"
    }
   ],
   "source": [
    "## Separar los Datos en Salida Y y en Nuestras Caracteristicas X\n",
    "Y=df['Outcome']\n",
    "X=df.drop('Outcome',axis=1)\n",
    "X.head()"
   ]
  },
  {
   "cell_type": "code",
   "execution_count": 26,
   "id": "d1d7918a",
   "metadata": {},
   "outputs": [
    {
     "name": "stdout",
     "output_type": "stream",
     "text": [
      "Regresión Logistica : 56.19% (10.16%)\n",
      "Arbol de Desición : 53.95% (7.43%)\n",
      "Maquina de Soporte Vectorial Lineal : 56.84% (9.91%)\n",
      "Maquina de Soporte Vectorial RBF : 0.00% (0.00%)\n"
     ]
    }
   ],
   "source": [
    "##  Comparar los Algoritmos\n",
    "\n",
    "models =[] ## Se Crea una Lista para salvar los modelos\n",
    "\n",
    "models.append(('Regresión Logistica',LogisticRegression(solver='lbfgs',max_iter=1000)))\n",
    "models.append(('Arbol de Desición',DecisionTreeClassifier(random_state=88)))\n",
    "models.append(('Maquina de Soporte Vectorial Lineal',SVC(C=0.01,kernel='linear')))\n",
    "models.append(('Maquina de Soporte Vectorial RBF',SVC(C=0.01,kernel='rbf')))\n",
    "\n",
    "results=[]\n",
    "names=[]\n",
    "scoring='recall'\n",
    "kfold= KFold(n_splits=8,random_state=87,shuffle=True)\n",
    "\n",
    "for name, model in models : \n",
    "    cv_result = cross_val_score(model,X,Y,cv=kfold,scoring=scoring)\n",
    "    results.append(cv_result)\n",
    "    names.append(name)\n",
    "    print(f'{name} : {cv_result.mean():.2%} ({cv_result.std():.2%})')\n",
    "    "
   ]
  },
  {
   "cell_type": "code",
   "execution_count": 27,
   "id": "efc0e5c5",
   "metadata": {},
   "outputs": [
    {
     "data": {
      "image/png": "[encoded data removed]",
      "text/plain": [
       "<Figure size 640x480 with 1 Axes>"
      ]
     },
     "metadata": {},
     "output_type": "display_data"
    }
   ],
   "source": [
    "fig=plt.figure()\n",
    "fig.suptitle('Comparación de Algoritmos')\n",
    "ax=fig.add_subplot(111)\n",
    "plt.boxplot(results)\n",
    "ax.set_xticklabels(names)\n",
    "plt.xticks(rotation = 45)\n",
    "plt.show()"
   ]
  }
 ],
 "metadata": {
  "kernelspec": {
   "display_name": "Python 3 (ipykernel)",
   "language": "python",
   "name": "python3"
  },
  "language_info": {
   "codemirror_mode": {
    "name": "ipython",
    "version": 3
   },
   "file_extension": ".py",
   "mimetype": "text/x-python",
   "name": "python",
   "nbconvert_exporter": "python",
   "pygments_lexer": "ipython3",
   "version": "3.9.13"
  }
 },
 "nbformat": 4,
 "nbformat_minor": 5
}
